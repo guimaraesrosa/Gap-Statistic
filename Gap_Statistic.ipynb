{
 "cells": [
  {
   "cell_type": "code",
   "execution_count": 1,
   "metadata": {},
   "outputs": [],
   "source": [
    "# Algoritmo Gap Statistic\n",
    "# Rosana Guimarães Ribeiro\n",
    "\n",
    "%matplotlib inline\n",
    "import time\n",
    "import hashlib\n",
    "import scipy\n",
    "import matplotlib.pyplot as plt\n",
    "import pandas as pd\n",
    "import numpy as np\n",
    "from sklearn.cluster import KMeans\n",
    "from sklearn.datasets.samples_generator import make_blobs\n",
    "from numpy import linalg as LA\n",
    "from numpy import genfromtxt"
   ]
  },
  {
   "cell_type": "code",
   "execution_count": 2,
   "metadata": {},
   "outputs": [],
   "source": [
    "def within_sum_of_squares(points_cluster, cluster_center):  \n",
    "    \n",
    "    wk = []\n",
    "    K_max = len(cluster_center)\n",
    "    for k in range(K_max):\n",
    "        for pc in points_cluster[k]:\n",
    "            wk.append((LA.norm(pc - cluster_center[k])**2)/(2*len(pc)))\n",
    "    \n",
    "    return sum(wk)\n",
    "    "
   ]
  },
  {
   "cell_type": "code",
   "execution_count": 3,
   "metadata": {},
   "outputs": [],
   "source": [
    "def bbox(points):\n",
    "    \n",
    "    x_coord, y_coord = zip(*points)\n",
    "    \n",
    "    return [(min(x_coord), max(x_coord)), (min(y_coord), max(y_coord))]\n"
   ]
  },
  {
   "cell_type": "code",
   "execution_count": 4,
   "metadata": {},
   "outputs": [],
   "source": [
    "def get_points_cluster(X_gaussian, kmeans):\n",
    "\n",
    "    points_cluster = {}\n",
    "    points_cluster = {j: X_gaussian[np.where(kmeans.labels_ == j)[0]] for j in range(kmeans.n_clusters)}\n",
    "    \n",
    "    return points_cluster\n"
   ]
  },
  {
   "cell_type": "code",
   "execution_count": 8,
   "metadata": {},
   "outputs": [],
   "source": [
    "def gap_statistic(X_gaussian):\n",
    "    \n",
    "    (xmin,xmax), (ymin,ymax) = bbox(X_gaussian)\n",
    "    \n",
    "    n_clusters = range(1,10)\n",
    "    B = 10\n",
    "    Wk = np.zeros(len(n_clusters))\n",
    "    Wkb = np.zeros(B)\n",
    "    sdk = np.zeros(len(n_clusters))\n",
    "    gap = np.zeros(len(n_clusters))\n",
    "    \n",
    "    for i, k in enumerate(n_clusters):\n",
    "        kmeans = KMeans(n_clusters=k, random_state=0).fit(X_gaussian)\n",
    "        points_cluster = get_points_cluster(X_gaussian, kmeans)\n",
    "        \n",
    "        \n",
    "        #Step 1\n",
    "        Wk[i] = np.log(within_sum_of_squares(points_cluster, kmeans.cluster_centers_))\n",
    "        \n",
    "        Wkb_aux = np.zeros(B)\n",
    "        #Step 2\n",
    "        for b in range(B):\n",
    "            X_new = np.zeros((X_gaussian.shape[0],X_gaussian.shape[1]))\n",
    "            X_new = [np.random.uniform(xmin,xmax, size=(X_gaussian.shape[0])), np.random.uniform(ymin,ymax, size = (X_gaussian.shape[0]))]\n",
    "            X_new = np.moveaxis(np.array(X_new), -1, 0)\n",
    "            \n",
    "            kmeans = KMeans(n_clusters=k, random_state=0).fit(X_new)\n",
    "            points_cluster = get_points_cluster(X_new, kmeans)\n",
    "            Wkb_aux[b] = np.log(within_sum_of_squares(points_cluster, kmeans.cluster_centers_))\n",
    "            \n",
    "        #Step 3\n",
    "        Wkb[i] = sum(Wkb_aux)/B\n",
    "        sdk[i] = np.sqrt(sum((Wkb_aux - Wkb[i]) ** 2)/B)\n",
    "        \n",
    "        #Step 2\n",
    "        gap[i] = Wkb[i] - Wk[i]\n",
    "    #Step 3\n",
    "    sk = sdk*np.sqrt(1 + 1/B)\n",
    "\n",
    "    print(\"k\\tWk\\t\\tWkbs\\t\\tsk\\t\\tgap\")\n",
    "    for k, wk, wkbs, s, g in zip(n_clusters, Wk, Wkb, sk, gap):\n",
    "        print(\"{0}\\t{1:.7f}\\t{2:.7f}\\t{3:.7f}\\t{4:.7f}\".format( k, wk, wkbs, s, g))\n",
    "        \n",
    "    print(\"\\n\\nBest number of clusters: \", np.argmax(gap) + 1)"
   ]
  },
  {
   "cell_type": "code",
   "execution_count": 9,
   "metadata": {},
   "outputs": [
    {
     "data": {
      "image/png": "[encoded data removed]",
      "text/plain": [
       "<Figure size 432x288 with 1 Axes>"
      ]
     },
     "metadata": {
      "needs_background": "light"
     },
     "output_type": "display_data"
    }
   ],
   "source": [
    "#Generate isotropic Gaussian blobs for clustering.\n",
    "\n",
    "center_box = (100, 200)\n",
    "std = 1.5\n",
    "X_gaussian,y = make_blobs(800, n_features=2, centers=6, center_box=center_box, cluster_std=std, random_state=50)\n",
    "\n",
    "#X_gaussian = genfromtxt('x_gaussian.csv', delimiter=',')\n",
    "plt.scatter(X_gaussian[:,0], X_gaussian[:,1])\n",
    "plt.show()"
   ]
  },
  {
   "cell_type": "code",
   "execution_count": 10,
   "metadata": {},
   "outputs": [
    {
     "name": "stdout",
     "output_type": "stream",
     "text": [
      "k\tWk\t\tWkbs\t\tsk\t\tgap\n",
      "1\t12.2399912\t12.0924757\t0.0251043\t-0.1475155\n",
      "2\t11.0583813\t11.3655074\t0.0267317\t0.3071261\n",
      "3\t10.0915992\t11.0454459\t0.0245003\t0.9538466\n",
      "4\t9.3134831\t10.7042728\t0.0228643\t1.3907897\n",
      "5\t7.8908096\t10.4445844\t0.0114639\t2.5537748\n",
      "6\t6.8135071\t10.2072814\t0.0152639\t3.3937743\n",
      "7\t6.7389266\t10.0736434\t0.0300486\t3.3347168\n",
      "8\t6.6620197\t9.9258856\t0.0207200\t3.2638659\n",
      "9\t6.5911199\t9.8269826\t0.0225446\t3.2358628\n",
      "\n",
      "\n",
      "Best number of clusters:  6\n"
     ]
    }
   ],
   "source": [
    "gap_statistic(X_gaussian)"
   ]
  },
  {
   "cell_type": "code",
   "execution_count": 14,
   "metadata": {},
   "outputs": [],
   "source": []
  },
  {
   "cell_type": "code",
   "execution_count": null,
   "metadata": {},
   "outputs": [],
   "source": []
  }
 ],
 "metadata": {
  "kernelspec": {
   "display_name": "Python 3",
   "language": "python",
   "name": "python3"
  },
  "language_info": {
   "codemirror_mode": {
    "name": "ipython",
    "version": 3
   },
   "file_extension": ".py",
   "mimetype": "text/x-python",
   "name": "python",
   "nbconvert_exporter": "python",
   "pygments_lexer": "ipython3",
   "version": "3.7.2"
  }
 },
 "nbformat": 4,
 "nbformat_minor": 2
}
